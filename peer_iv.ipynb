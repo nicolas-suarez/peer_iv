{
 "cells": [
  {
   "cell_type": "markdown",
   "id": "305cdf05",
   "metadata": {},
   "source": [
    "For one of my research projects I was working on peer effects for college students, and I wanted to use the Generalized 2SLS procedure to estimate peer effects described in [Bramoullé, Y., Djebbari, H., & Fortin, B. (2009). Identification of peer effects through social networks. Journal of econometrics, 150(1), 41-55.](https://www.sciencedirect.com/science/article/pii/S0304407609000335). The problem is that this project required a lot of data work and cleaning, so I worked on it on Stata mostly, but there is not a lot of support for peer effects regressions on `Stata`, so I had to adapt the code of Bramoullé et al. (2009) on my own. I based my code on their article, and on the code shared on \n",
    "[Habiba Djebbari's website](https://rpubs.com/Nicolas_Gallo/549370).\n",
    "\n",
    "Here I share my code, some examples about how to use it, and a comparison of my code and the original `R` code used by the authors.\n",
    "\n",
    "To wrote this, I took advantage of Stata's new integration with Python and Jupyter Notebooks (more information on how to use this feature can be found [here](https://www.stata.com/new-in-stata/jupyter-notebooks/)). I also used the [rpy2 package](https://rpy2.github.io/) to run `R` commands inside a Jupyter notebook."
   ]
  },
  {
   "cell_type": "markdown",
   "id": "e78ba64e",
   "metadata": {},
   "source": [
    "## Setting up Stata in Python"
   ]
  },
  {
   "cell_type": "code",
   "execution_count": 1,
   "id": "fb6edaab",
   "metadata": {},
   "outputs": [
    {
     "name": "stdout",
     "output_type": "stream",
     "text": [
      "\n",
      "  ___  ____  ____  ____  ____ ®\n",
      " /__    /   ____/   /   ____/      17.0\n",
      "___/   /   /___/   /   /___/       MP—Parallel Edition\n",
      "\n",
      " Statistics and Data Science       Copyright 1985-2021 StataCorp LLC\n",
      "                                   StataCorp\n",
      "                                   4905 Lakeway Drive\n",
      "                                   College Station, Texas 77845 USA\n",
      "                                   800-STATA-PC        https://www.stata.com\n",
      "                                   979-696-4600        stata@stata.com\n",
      "\n",
      "Stata license: Unlimited-user 4-core network, expiring 21 Jul 2022\n",
      "Serial number: 501709301051\n",
      "  Licensed to: Nicolas Suarez\n",
      "               Stanford University\n",
      "\n",
      "Notes:\n",
      "      1. Unicode is supported; see help unicode_advice.\n",
      "      2. More than 2 billion observations are allowed; see help obs_advice.\n",
      "      3. Maximum number of variables is set to 5,000; see help set_maxvar.\n",
      "\n",
      "Running C:\\Program Files\\Stata17/profile.do ...\n"
     ]
    }
   ],
   "source": [
    "#setting up Stata in Python\n",
    "import stata_setup\n",
    "stata_setup.config(\"C:/Program Files/Stata17\", \"mp\")"
   ]
  },
  {
   "cell_type": "markdown",
   "id": "e35f17ef",
   "metadata": {},
   "source": [
    "# Peer IV function\n",
    "\n",
    "To implement linear in means regressions, I wrote the `peer_iv` function. This function takes as inputs, as any other regression function, a dependent variable and independent variables, plus an adjacency matrix `G` to perform the calculations. This matrix has to be a `Mata` matrix object (`Stata` matrices have size limitations). The option `row` allows us to row-normalize the adjacency matrix (so the sum of each row is 1, and we can interpret the product of a variable and the matrix as weighted means), and the `fixed` option adds group level fixed effects.\n",
    "\n",
    "The matrix generates an standard Stata regression output, containing coefficients, standard errors, p-values and all the relevant information, and it stores eclass results. This means that the output could be stored with custom commands like `outreg2`, `estout` or `esttab` that allow the user to build customizable output tables."
   ]
  },
  {
   "cell_type": "code",
   "execution_count": 2,
   "id": "abea55a1",
   "metadata": {},
   "outputs": [
    {
     "name": "stdout",
     "output_type": "stream",
     "text": [
      "\n",
      ". \n",
      ". capture program drop peer_iv\n",
      "\n",
      ". program define peer_iv, eclass\n",
      "  1. version 17\n",
      "  2. syntax varlist, ADJacency(name) [ROW FIXED OLS] \n",
      "  3. /* implements the generalized 2SLS model of Bramoulle et al (2009), withou\n",
      "> t fixed effects.\n",
      "> The model includes a constant, then the endogenous effect, effects of the ind\n",
      "> ependent variables, and then the exogenous effects.\n",
      "> For more details see https://rpubs.com/Nicolas_Gallo/549370\n",
      "> \n",
      "> INPUTS:\n",
      "> varlist = exogenous variables\n",
      "> dep= dependent variable\n",
      "> adjacency=name of the adjacency matrix in Mata\n",
      "> row=optional, row normalizes the adjacency matrix\n",
      "> fixed=optional, estimates model with cohort level fixed effects\n",
      "> ols=optional, OLS results. Don't use together with FIXED\n",
      "> \n",
      "> OUTPUT:\n",
      "> displays the coefficients and standard errors in a table. Stores eclass resul\n",
      "> ts.\n",
      "> */\n",
      ". \n",
      ". *separating dependent from independent variables\n",
      ". gettoken dep varlist: varlist\n",
      "  4. preserve\n",
      "  5. quietly{\n",
      "  6. *checking if there are missing values in our data\n",
      ". reg `dep' `varlist'\n",
      "  7. *recovering the indexes of non-missing observations\n",
      ". gen muestra=e(sample)\n",
      "  8. ereturn clear \n",
      "  9. \n",
      ". *moving data as matrices\n",
      ". mata X=st_data(.,\"`varlist'\")\n",
      " 10. mata y=st_data(.,\"`dep'\")\n",
      " 11. mata muestra=st_data(.,\"muestra\")\n",
      " 12. \n",
      ". *dropping missing values from data matrices\n",
      ". mata X=select(X,muestra)\n",
      " 13. mata y=select(y,muestra)\n",
      " 14. \n",
      ". *dropping missing values from G matrix (eliminating the rows and columns with\n",
      ">  missing values, so the matrix are comformable)\n",
      ". mata G1=select(`adjacency',muestra)\n",
      " 15. mata G1=select(G1,muestra')\n",
      " 16. \n",
      ". *row normalizing G if needed\n",
      ". if \"`row'\"!=\"\" mata G1=G1:/editvalue(rowsum(G1),0,1)\n",
      " 17. \n",
      ". *generating identity matrix\n",
      ". mata Id=I(rows(G1))\n",
      " 18. \n",
      ". *OLS results\n",
      ". if \"`ols'\"!=\"\" {\n",
      " 19.         mata X_1 =  J(rows(X),1,1), G1*y, X, G1*X \n",
      " 20.         mata theta= invsym(quadcross(X_1, X_1))*quadcross(X_1, y)\n",
      " 21.         mata e= y - X_1*theta\n",
      " 22.         mata V = (quadsum(e:^2)/(rows(X_1)-cols(X_1)))*invsym(quadcross(X_\n",
      "> 1, X_1))\n",
      " 23. }\n",
      " 24. else {\n",
      " 25.         *putting matrices together\n",
      ".         *with fixed effects\n",
      ".         if \"`fixed'\"!=\"\" {\n",
      " 26.                 mata S=( (Id-G1)*X, (Id-G1)*G1*X, (Id-G1)*G1*G1*X )\n",
      " 27.                 mata X_1= ( (Id-G1)*G1*y, (Id-G1)*X, (Id-G1)*G1*X )       \n",
      ">                       \n",
      " 28.         }\n",
      " 29.         else{\n",
      " 30.                 mata S=( J(rows(X),1,1), X, G1*X, G1*G1*X )\n",
      " 31.                 mata X_1= ( J(rows(X),1,1), G1*y, X, G1*X )\n",
      " 32.         }\n",
      " 33.         mata P= S*invsym(quadcross(S,S))*S'\n",
      " 34. \n",
      ".         *first 2sls\n",
      ".         if \"`fixed'\"!=\"\" mata theta_1= invsym(X_1'*P*X_1)*X_1'*P*(Id-G1)*y\n",
      " 35.     else mata theta_1= invsym(X_1'*P*X_1)*X_1'*P*y\n",
      " 36.         \n",
      ".         *building instrument\n",
      ".         if \"`fixed'\"!=\"\" {\n",
      " 37.                 mata Z = G1*luinv(Id-theta_1[1]*G1)*(Id-G1)*(X*theta_1[2::\n",
      "> (1+cols(X))] +  G1*X*theta_1[(2+cols(X))::(1+2*cols(X))] ), (Id-G1)*X, (Id-G1\n",
      "> )*G1*X   \n",
      " 38.         }\n",
      " 39.         else{\n",
      " 40.                 mata Z = J(rows(X),1,1), G1*luinv(Id-theta_1[2]*G1)*( thet\n",
      "> a_1[1]*J(rows(X),1,1) + X*theta_1[3::(2+cols(X))] +  G1*X*theta_1[(3+cols(X))\n",
      "> ::(2+2*cols(X))] ), X, G1*X\n",
      " 41.         }\n",
      " 42.         *\n",
      ".         \n",
      ".     *final 2sls\n",
      ".     if \"`fixed'\"!=\"\" mata theta = luinv(quadcross(Z,X_1))*quadcross(Z,(Id-G1)\n",
      "> *y)\n",
      " 43.     else mata theta = luinv(quadcross(Z,X_1))*quadcross(Z,y)\n",
      " 44. \n",
      ".         *resids\n",
      ".         if \"`fixed'\"!=\"\" {\n",
      " 45.                 mata e= (Id-G1)*y - luinv(Id-theta[1]*G1)*((Id-G1)*X*theta\n",
      "> [2::(1+cols(X))] + (Id-G1)*G1*X*theta[(2+cols(X))::(1+2*cols(X))] )\n",
      " 46.         }\n",
      " 47.         else{\n",
      " 48.                 mata e= y - luinv(Id-theta[2]*G1)*( theta[1]*J(rows(X),1,1\n",
      "> ) + X*theta[3::(2+cols(X))] +  G1*X*theta[(3+cols(X))::(2+2*cols(X))] )\n",
      " 49.         }\n",
      " 50. \n",
      ". \n",
      ".         *variance\n",
      ".         mata V = luinv(quadcross(Z,X_1))*(Z')*diag(e:^2)*Z*luinv(quadcross(X_\n",
      "> 1,Z))\n",
      " 51. }\n",
      " 52. \n",
      ". *sending results to Stata\n",
      ". mata st_matrix(\"b\",theta')\n",
      " 53. mata st_matrix(\"V\",V)\n",
      " 54. \n",
      ". *row and col names for matrices\n",
      ". local exog_peer //list for names of exogenous effects\n",
      " 55. foreach var in `varlist'{\n",
      " 56.         local exog_peer `exog_peer' `var'_p\n",
      " 57. }\n",
      " 58. if \"`fixed'\"!=\"\" {\n",
      " 59.         local varnames `dep'_p `varlist' `exog_peer'\n",
      " 60. }\n",
      " 61. else{\n",
      " 62.         local varnames _cons `dep'_p `varlist' `exog_peer'\n",
      " 63. }\n",
      " 64. \n",
      ". \n",
      ". *adding col and rownames\n",
      ". matrix colnames b= `varnames'\n",
      " 65. matrix colnames V = `varnames'\n",
      " 66. matrix rownames V = `varnames'\n",
      " 67. }\n",
      " 68. *storing eclass results\n",
      ". ereturn post b V, depname(`dep') esample(muestra)\n",
      " 69. mata st_numscalar(\"e(N)\", rows(G1))\n",
      " 70. mata st_numscalar(\"e(df_r)\", rows(X_1)-cols(X_1))\n",
      " 71. eret local cmd peer_iv\n",
      " 72. ereturn display\n",
      " 73. \n",
      ". restore         \n",
      " 74. end\n",
      "\n",
      ". \n"
     ]
    }
   ],
   "source": [
    "%%stata\n",
    "\n",
    "capture program drop peer_iv\n",
    "program define peer_iv, eclass\n",
    "version 17\n",
    "syntax varlist, ADJacency(name) [ROW FIXED OLS] \n",
    "/* implements the generalized 2SLS model of Bramoulle et al (2009), without fixed effects.\n",
    "The model includes a constant, then the endogenous effect, effects of the independent variables, and then the exogenous effects.\n",
    "For more details see https://rpubs.com/Nicolas_Gallo/549370\n",
    "\n",
    "INPUTS:\n",
    "varlist = exogenous variables\n",
    "dep= dependent variable\n",
    "adjacency=name of the adjacency matrix in Mata\n",
    "row=optional, row normalizes the adjacency matrix\n",
    "fixed=optional, estimates model with cohort level fixed effects\n",
    "ols=optional, OLS results. Don't use together with FIXED\n",
    "\n",
    "OUTPUT:\n",
    "displays the coefficients and standard errors in a table. Stores eclass results.\n",
    "*/\n",
    "\n",
    "*separating dependent from independent variables\n",
    "gettoken dep varlist: varlist\n",
    "preserve\n",
    "quietly{\n",
    "*checking if there are missing values in our data\n",
    "reg `dep' `varlist'\n",
    "*recovering the indexes of non-missing observations\n",
    "gen muestra=e(sample)\n",
    "ereturn clear \n",
    "\n",
    "*moving data as matrices\n",
    "mata X=st_data(.,\"`varlist'\")\n",
    "mata y=st_data(.,\"`dep'\")\n",
    "mata muestra=st_data(.,\"muestra\")\n",
    "\n",
    "*dropping missing values from data matrices\n",
    "mata X=select(X,muestra)\n",
    "mata y=select(y,muestra)\n",
    "\n",
    "*dropping missing values from G matrix (eliminating the rows and columns with missing values, so the matrix are comformable)\n",
    "mata G1=select(`adjacency',muestra)\n",
    "mata G1=select(G1,muestra')\n",
    "\n",
    "*row normalizing G if needed\n",
    "if \"`row'\"!=\"\" mata G1=G1:/editvalue(rowsum(G1),0,1)\n",
    "\n",
    "*generating identity matrix\n",
    "mata Id=I(rows(G1))\n",
    "\n",
    "*OLS results\n",
    "if \"`ols'\"!=\"\" {\n",
    "\tmata X_1 =  J(rows(X),1,1), G1*y, X, G1*X \n",
    "\tmata theta= invsym(quadcross(X_1, X_1))*quadcross(X_1, y)\n",
    "\tmata e= y - X_1*theta\n",
    "\tmata V = (quadsum(e:^2)/(rows(X_1)-cols(X_1)))*invsym(quadcross(X_1, X_1))\n",
    "}\n",
    "else {\n",
    "\t*putting matrices together\n",
    "\t*with fixed effects\n",
    "\tif \"`fixed'\"!=\"\" {\n",
    "\t\tmata S=( (Id-G1)*X, (Id-G1)*G1*X, (Id-G1)*G1*G1*X )\n",
    "\t\tmata X_1= ( (Id-G1)*G1*y, (Id-G1)*X, (Id-G1)*G1*X )\t\t\t\t\n",
    "\t}\n",
    "\telse{\n",
    "\t\tmata S=( J(rows(X),1,1), X, G1*X, G1*G1*X )\n",
    "\t\tmata X_1= ( J(rows(X),1,1), G1*y, X, G1*X )\n",
    "\t}\n",
    "\tmata P= S*invsym(quadcross(S,S))*S'\n",
    "\n",
    "\t*first 2sls\n",
    "\tif \"`fixed'\"!=\"\" mata theta_1= invsym(X_1'*P*X_1)*X_1'*P*(Id-G1)*y\n",
    "    else mata theta_1= invsym(X_1'*P*X_1)*X_1'*P*y\n",
    "\t\n",
    "\t*building instrument\n",
    "\tif \"`fixed'\"!=\"\" {\n",
    "\t\tmata Z = G1*luinv(Id-theta_1[1]*G1)*(Id-G1)*(X*theta_1[2::(1+cols(X))] +  G1*X*theta_1[(2+cols(X))::(1+2*cols(X))] ), (Id-G1)*X, (Id-G1)*G1*X\t\n",
    "\t}\n",
    "\telse{\n",
    "\t\tmata Z = J(rows(X),1,1), G1*luinv(Id-theta_1[2]*G1)*( theta_1[1]*J(rows(X),1,1) + X*theta_1[3::(2+cols(X))] +  G1*X*theta_1[(3+cols(X))::(2+2*cols(X))] ), X, G1*X\n",
    "\t}\n",
    "\t*\n",
    "\t\n",
    "    *final 2sls\n",
    "    if \"`fixed'\"!=\"\" mata theta = luinv(quadcross(Z,X_1))*quadcross(Z,(Id-G1)*y)\n",
    "    else mata theta = luinv(quadcross(Z,X_1))*quadcross(Z,y)\n",
    "\n",
    "\t*resids\n",
    "\tif \"`fixed'\"!=\"\" {\n",
    "\t\tmata e= (Id-G1)*y - luinv(Id-theta[1]*G1)*((Id-G1)*X*theta[2::(1+cols(X))] + (Id-G1)*G1*X*theta[(2+cols(X))::(1+2*cols(X))] )\n",
    "\t}\n",
    "\telse{\n",
    "\t\tmata e= y - luinv(Id-theta[2]*G1)*( theta[1]*J(rows(X),1,1) + X*theta[3::(2+cols(X))] +  G1*X*theta[(3+cols(X))::(2+2*cols(X))] )\n",
    "\t}\n",
    "\n",
    "\n",
    "\t*variance\n",
    "\tmata V = luinv(quadcross(Z,X_1))*(Z')*diag(e:^2)*Z*luinv(quadcross(X_1,Z))\n",
    "}\n",
    "\n",
    "*sending results to Stata\n",
    "mata st_matrix(\"b\",theta')\n",
    "mata st_matrix(\"V\",V)\n",
    "\n",
    "*row and col names for matrices\n",
    "local exog_peer //list for names of exogenous effects\n",
    "foreach var in `varlist'{\n",
    "\tlocal exog_peer `exog_peer' `var'_p\n",
    "}\n",
    "if \"`fixed'\"!=\"\" {\n",
    "\tlocal varnames `dep'_p `varlist' `exog_peer'\n",
    "}\n",
    "else{\n",
    "\tlocal varnames _cons `dep'_p `varlist' `exog_peer'\n",
    "}\n",
    "\n",
    "\n",
    "*adding col and rownames\n",
    "matrix colnames b= `varnames'\n",
    "matrix colnames V = `varnames'\n",
    "matrix rownames V = `varnames'\n",
    "}\n",
    "*storing eclass results\n",
    "ereturn post b V, depname(`dep') esample(muestra)\n",
    "mata st_numscalar(\"e(N)\", rows(G1))\n",
    "mata st_numscalar(\"e(df_r)\", rows(X_1)-cols(X_1))\n",
    "eret local cmd peer_iv\n",
    "ereturn display\n",
    "\n",
    "restore\t\t\n",
    "end\n"
   ]
  },
  {
   "cell_type": "markdown",
   "id": "2590a809",
   "metadata": {},
   "source": [
    "## Example\n",
    "\n",
    "Here we will run a little example to see how the command works, and how you can generate an adjacency matrix in Stata. We are going to use the `auto` dataset with 1978 automobile data, and we are going to create a random adjacency matrix `G` with elements that are drawn from a uniform between 0 an 1, but we will force the elements in the main diagonal to be 0. We are also going to row normalize the adjacency matrix."
   ]
  },
  {
   "cell_type": "code",
   "execution_count": 3,
   "id": "013fe233",
   "metadata": {},
   "outputs": [
    {
     "name": "stdout",
     "output_type": "stream",
     "text": [
      "\n",
      ". \n",
      ". sysuse auto, clear\n",
      "(1978 automobile data)\n",
      "\n",
      ". \n",
      ". *generating the matrix\n",
      ". mata G= runiform(`c(N)', `c(N)') \n",
      "\n",
      ". forval i=1/`c(N)'{\n",
      "  2.         mata G[strtoreal(st_local(\"i\")),strtoreal(st_local(\"i\"))]=0\n",
      "  3. }\n",
      "\n",
      ". \n",
      ". *running the regression\n",
      ". peer_iv price trunk turn, row adj(G)\n",
      "------------------------------------------------------------------------------\n",
      "       price | Coefficient  Std. err.      t    P>|t|     [95% conf. interval]\n",
      "-------------+----------------------------------------------------------------\n",
      "       _cons |   41706.23   48765.18     0.86   0.395    -55603.18    139015.6\n",
      "     price_p |  -1.527064   11.64602    -0.13   0.896    -24.76633     21.7122\n",
      "       trunk |   141.5504   83.60055     1.69   0.095    -25.27191    308.3727\n",
      "        turn |    98.8758   103.6205     0.95   0.343    -107.8956    305.6472\n",
      "     trunk_p |     439.69   968.8704     0.45   0.651    -1493.661    2373.041\n",
      "      turn_p |  -959.4334   2872.551    -0.33   0.739    -6691.519    4772.652\n",
      "------------------------------------------------------------------------------\n",
      "\n",
      ". \n",
      ". eret list\n",
      "\n",
      "scalars:\n",
      "                  e(N) =  74\n",
      "               e(df_r) =  68\n",
      "\n",
      "macros:\n",
      "                e(cmd) : \"peer_iv\"\n",
      "         e(properties) : \"b V\"\n",
      "             e(depvar) : \"price\"\n",
      "\n",
      "matrices:\n",
      "                  e(b) :  1 x 6\n",
      "                  e(V) :  6 x 6\n",
      "\n",
      ". \n"
     ]
    }
   ],
   "source": [
    "%%stata\n",
    "\n",
    "sysuse auto, clear\n",
    "\n",
    "*generating the matrix\n",
    "mata G= runiform(`c(N)', `c(N)') \n",
    "forval i=1/`c(N)'{\n",
    "\tmata G[strtoreal(st_local(\"i\")),strtoreal(st_local(\"i\"))]=0\n",
    "}\n",
    "\n",
    "*running the regression\n",
    "peer_iv price trunk turn, row adj(G)\n",
    "\n",
    "eret list"
   ]
  },
  {
   "cell_type": "markdown",
   "id": "d2e31653",
   "metadata": {},
   "source": [
    "We can see the output of the regression, including a constant, the coefficient `price_p` is the coefficient of the endogenous effect, while `trunk_p` and `turn_p` are the exogenous effects.\n",
    "\n",
    "After the regression command we ran the `eret list` command, and we can see all the elements that are stored after running the command."
   ]
  },
  {
   "cell_type": "markdown",
   "id": "99aa5333",
   "metadata": {},
   "source": [
    "## Storing Mata matrices\n",
    "\n",
    "At least for my particular application, computing the adjacency matrix was very slow, so it is not something that I would do each time before I want to run peer effects regressions. To avoid this, we can use the `Mata` functions `matsave` and `matuse` to store a matrix as a `.mmat` object, and then load it into Stata."
   ]
  },
  {
   "cell_type": "markdown",
   "id": "b87dc72d",
   "metadata": {},
   "source": [
    "# Checking if the code works\n",
    "Here, to see if my code works properly, I will run the `R` code provided by Bramoullé, Djebbari and Fortin (it can be found [here](https://rpubs.com/Nicolas_Gallo/549370)) to generate data, then estimate peer effects with and without fixed effects, export their data to Stata, and then see if my function obtains the same coefficients.\n",
    "\n",
    "The code provided by the authors is meant to be used to run Monte Carlo simulations, so I made some modifications to keep only the relevant parts. Also, for both cases, the authors defined different data generating processes, so we will have 2 vectors of dependent variables, but all of them are generated with the vector of white noise."
   ]
  },
  {
   "cell_type": "code",
   "execution_count": 4,
   "id": "457d133f",
   "metadata": {},
   "outputs": [
    {
     "name": "stderr",
     "output_type": "stream",
     "text": [
      "C:\\Users\\nsuar\\AppData\\Roaming\\Python\\Python38\\site-packages\\rpy2\\robjects\\packages.py:366: UserWarning: The symbol 'quartz' is not in this R namespace/package.\n",
      "  warnings.warn(\n"
     ]
    }
   ],
   "source": [
    "#Python package to use magic R commands\n",
    "%load_ext rpy2.ipython"
   ]
  },
  {
   "cell_type": "markdown",
   "id": "2ce62f1b",
   "metadata": {},
   "source": [
    "## Generating network data in R"
   ]
  },
  {
   "cell_type": "code",
   "execution_count": 5,
   "id": "ce0538bc",
   "metadata": {},
   "outputs": [
    {
     "name": "stderr",
     "output_type": "stream",
     "text": [
      "R[write to console]: \n",
      "Attaching package: 'igraph'\n",
      "\n",
      "\n",
      "R[write to console]: The following objects are masked from 'package:stats':\n",
      "\n",
      "    decompose, spectrum\n",
      "\n",
      "\n",
      "R[write to console]: The following object is masked from 'package:base':\n",
      "\n",
      "    union\n",
      "\n",
      "\n"
     ]
    }
   ],
   "source": [
    "%%R\n",
    "\n",
    "library(knitr)\n",
    "library(igraph)\n",
    "library(truncnorm)\n",
    "set.seed(1)\n",
    "\n",
    "alpha=0.7683\n",
    "beta=0.4666\n",
    "gamma=0.0834\n",
    "delta=0.1507\n",
    "e_var=0.1\n",
    "#Generating a graph with 100 vertices and a probability of link of 0.04 with the \"random.renyi.game()\" function\n",
    "g<-erdos.renyi.game(100,0.04)\n",
    "#Generating the associated weighted adjacency matrix\n",
    "G<-get.adjacency(g)\n",
    "G<-as.matrix(G)\n",
    "\n",
    "#Drawing a vector x of characteristics\n",
    "x_sim<-matrix(rbinom(n = nrow(G),size = 1,prob = 0.9458 ),nrow(G),1)\n",
    "for(i in 1:nrow(x_sim)){\n",
    "  if(x_sim[i,] != 0){\n",
    "    x_sim[i,]<-rtruncnorm(n = 1,a = 0,b = 1000,mean = 1,sd = 3) \n",
    "  }\n",
    "}\n",
    "#a vector filled with 1,  size m x 1 (used when there is an intercept in the model, i.e. when fixed_effects = FALSE)\n",
    "l<-matrix(1,nrow(G),1)\n",
    "\n",
    "GX<-G %*% x_sim\n",
    "G2X<-(G %*% G) %*% x_sim\n",
    "#an identity matrix of appropriate size\n",
    "I<-(diag(nrow(G))) \n",
    "# Inv corresponds to (I - Beta*G))^(-1)   in the reduced form(check equation (5))\n",
    "# Solve function gives the inverse of a matrix\n",
    "Inv<-solve(I - beta * G)"
   ]
  },
  {
   "cell_type": "markdown",
   "id": "42f41e94",
   "metadata": {},
   "source": [
    "## Case without fixed effects"
   ]
  },
  {
   "cell_type": "code",
   "execution_count": 6,
   "id": "587ce8cb",
   "metadata": {},
   "outputs": [],
   "source": [
    "%%R\n",
    "\n",
    "#the instrument vector of size m x 4\n",
    "S<-matrix(c(l,x_sim,GX,G2X),nrow(x_sim),)\n",
    "\n",
    "#P is the weighting matrix of size m x n\n",
    "P<-S %*% solve(t(S) %*% S) %*% t(S)\n",
    "\n",
    "\n",
    "eps<-matrix(rnorm(n = nrow(G),mean = 0,sd = e_var),nrow(G),1)\n",
    "y<-alpha * Inv %*% l  + Inv %*% (gamma * I + delta * G) %*% x_sim  + Inv %*% eps\n",
    "Gy<-G %*% y\n",
    "\n",
    "#X tilde, size n x 4\n",
    "X_t<-matrix(c(l,Gy,x_sim,GX),nrow(x_sim),)\n",
    "\n",
    "#theta 2sls and extracting its parameters\n",
    "th_2sls <-solve(t(X_t) %*% P %*% X_t) %*% t(X_t) %*% P %*% y\n",
    "alpha_2sls<-th_2sls[1]\n",
    "beta_2sls<-th_2sls[2]\n",
    "gamma_2sls<-th_2sls[3]\n",
    "delta_2sls<-th_2sls[4]\n",
    "\n",
    "#Recalculate I with Beta_2sls\n",
    "I_2sls<-solve((diag(nrow(G)) - beta_2sls * G ))  \n",
    "\n",
    "#Gy estimated in theta 2sls\n",
    "gy_2sls<- G %*% I_2sls %*% (alpha_2sls * l   + gamma_2sls * x_sim + GX * delta_2sls)\n",
    "\n",
    "Z_th<-matrix(c(rep(1,nrow(G)),gy_2sls,x_sim,GX),nrow(x_sim),)\n",
    "\n",
    "#THETAS\n",
    "#theta lee\n",
    "th_lee_1<-solve(t(Z_th) %*% X_t) %*% t(Z_th) %*% y"
   ]
  },
  {
   "cell_type": "markdown",
   "id": "7c63848b",
   "metadata": {},
   "source": [
    "## Case with fixed effects"
   ]
  },
  {
   "cell_type": "code",
   "execution_count": 7,
   "id": "b2efdfac",
   "metadata": {},
   "outputs": [],
   "source": [
    "%%R\n",
    "IG <-(I - G)\n",
    "#the instrument vector of size m x 3\n",
    "S<-matrix(c(IG%*%x_sim,IG%*%GX,IG%*%G2X),nrow(G),)\n",
    "\n",
    "#P is the weighting matrix of size m x m\n",
    "P<-S %*% solve(t(S) %*% S) %*% t(S)\n",
    "\n",
    "y2<- solve(IG) %*% Inv %*% (gamma*I + delta * G) %*% IG %*% x_sim + solve(IG) %*% Inv %*% IG %*% eps\n",
    "\n",
    "#X tilde, size m x 3\n",
    "X_t<-matrix(c(G%*%IG%*%y2 ,IG%*%x_sim,IG%*%GX),nrow(x_sim),)\n",
    "\n",
    "\n",
    "#theta 2sls and extracting its parameters\n",
    "th_2sls <-solve(t(X_t) %*% P %*% X_t) %*% t(X_t) %*% P %*% IG%*%y2\n",
    "beta_2sls<-th_2sls[1]\n",
    "gamma_2sls<-th_2sls[2]\n",
    "delta_2sls<-th_2sls[3]\n",
    "\n",
    "#Recalculate I with Beta_2sls\n",
    "Inv_2sls<-solve(I - beta_2sls * G )\n",
    "#IGy estimated in theta 2sls\n",
    "IGy_2sls<-Inv_2sls %*% (gamma_2sls * I + delta_2sls * G) %*% IG %*% x_sim + Inv_2sls %*% IG %*% eps \n",
    "\n",
    "IG_Gy_2sls<- G %*% Inv_2sls %*% (IG %*% (x_sim * gamma_2sls + GX* delta_2sls))\n",
    "\n",
    "Z_th<-matrix(c(IG_Gy_2sls,IG%*%x_sim,IG%*%GX),nrow(G),)\n",
    "\n",
    "\n",
    "#THETAS\n",
    "#theta lee\n",
    "th_lee_2<-solve(t(Z_th) %*% X_t) %*% t(Z_th) %*% IG%*%y2"
   ]
  },
  {
   "cell_type": "markdown",
   "id": "352b1181",
   "metadata": {},
   "source": [
    "## Storing data in R as CSV, and reading it in Stata"
   ]
  },
  {
   "cell_type": "code",
   "execution_count": 8,
   "id": "e0afc56e",
   "metadata": {},
   "outputs": [],
   "source": [
    "%%R\n",
    "#storing data and adjacency matrix as CSV, to be readed in Stata later\n",
    "write.csv(data.frame(x_sim,y,y2),'data.csv',row.names = FALSE)\n",
    "write.csv(G,'adjacency.csv',row.names = FALSE)"
   ]
  },
  {
   "cell_type": "code",
   "execution_count": 9,
   "id": "993c1bac",
   "metadata": {},
   "outputs": [
    {
     "name": "stdout",
     "output_type": "stream",
     "text": [
      "\n",
      ". *reading adjacency matrix, and passing it to Mata\n",
      ". import delimited \"adjacency.csv\", clear\n",
      "(encoding automatically selected: ISO-8859-2)\n",
      "(100 vars, 100 obs)\n",
      "\n",
      ". putmata  G_r=(v*), replace\n",
      "(1 matrix posted)\n",
      "\n",
      ". \n",
      ". *reading data\n",
      ". import delimited \"data.csv\", varnames(1) clear\n",
      "(encoding automatically selected: ISO-8859-1)\n",
      "(3 vars, 100 obs)\n",
      "\n",
      ". \n"
     ]
    }
   ],
   "source": [
    "%%stata\n",
    "*reading adjacency matrix, and passing it to Mata\n",
    "import delimited \"adjacency.csv\", clear\n",
    "putmata  G_r=(v*), replace\n",
    "\n",
    "*reading data\n",
    "import delimited \"data.csv\", varnames(1) clear"
   ]
  },
  {
   "cell_type": "markdown",
   "id": "f3aa560d",
   "metadata": {},
   "source": [
    "## Comparing results without fixed effects"
   ]
  },
  {
   "cell_type": "code",
   "execution_count": 10,
   "id": "4a0ac132",
   "metadata": {},
   "outputs": [
    {
     "name": "stdout",
     "output_type": "stream",
     "text": [
      "-----------------------------------------------------------------------------\n",
      "> -\n",
      "           y | Coefficient  Std. err.      t    P>|t|     [95% conf. interval]\n",
      "-------------+----------------------------------------------------------------\n",
      "       _cons |   .7693815   .0861937     8.93   0.000     .5982885    .9404746\n",
      "         y_p |   .4668116   .0019521   239.13   0.000     .4629367    .4706865\n",
      "       x_sim |   .0832526   .0174479     4.77   0.000     .0486188    .1178864\n",
      "     x_sim_p |   .1501907   .0057371    26.18   0.000     .1388026    .1615789\n",
      "------------------------------------------------------------------------------\n"
     ]
    }
   ],
   "source": [
    "%%stata\n",
    "peer_iv y x_sim, adj(G_r)"
   ]
  },
  {
   "cell_type": "code",
   "execution_count": 11,
   "id": "99a54982",
   "metadata": {},
   "outputs": [
    {
     "name": "stdout",
     "output_type": "stream",
     "text": [
      "          [,1]\n",
      "[1,] 0.7693815\n",
      "[2,] 0.4668116\n",
      "[3,] 0.0832526\n",
      "[4,] 0.1501907\n"
     ]
    }
   ],
   "source": [
    "%%R\n",
    "th_lee_1"
   ]
  },
  {
   "cell_type": "markdown",
   "id": "3e37d71e",
   "metadata": {},
   "source": [
    "## Comparing results with fixed effects"
   ]
  },
  {
   "cell_type": "code",
   "execution_count": 12,
   "id": "7e008e4f",
   "metadata": {},
   "outputs": [
    {
     "name": "stdout",
     "output_type": "stream",
     "text": [
      "------------------------------------------------------------------------------\n",
      "          y2 | Coefficient  Std. err.      t    P>|t|     [95% conf. interval]\n",
      "-------------+----------------------------------------------------------------\n",
      "        y2_p |   .4663327   .0025075   185.97   0.000      .461356    .4713095\n",
      "       x_sim |   .0841561   .0081916    10.27   0.000      .067898    .1004143\n",
      "     x_sim_p |   .1500943   .0018714    80.20   0.000       .14638    .1538086\n",
      "------------------------------------------------------------------------------\n"
     ]
    }
   ],
   "source": [
    "%%stata\n",
    "peer_iv y2 x_sim, fixed adj(G_r)"
   ]
  },
  {
   "cell_type": "code",
   "execution_count": 13,
   "id": "592bed8f",
   "metadata": {},
   "outputs": [
    {
     "name": "stdout",
     "output_type": "stream",
     "text": [
      "           [,1]\n",
      "[1,] 0.46633273\n",
      "[2,] 0.08415615\n",
      "[3,] 0.15009431\n"
     ]
    }
   ],
   "source": [
    "%%R\n",
    "th_lee_2"
   ]
  },
  {
   "cell_type": "markdown",
   "id": "6aea6fc2",
   "metadata": {},
   "source": [
    "As we can see, in both cases, the `peer_iv` command produces the same estimates as the original package. Furthermore, both packages produce estimates that are very similar to the ones used to generate our data (for instance, we have that $\\beta=0.4666$, and in both cases we get coefficients very close to that)."
   ]
  }
 ],
 "metadata": {
  "kernelspec": {
   "display_name": "Python 3",
   "language": "python",
   "name": "python3"
  },
  "language_info": {
   "codemirror_mode": {
    "name": "ipython",
    "version": 3
   },
   "file_extension": ".py",
   "mimetype": "text/x-python",
   "name": "python",
   "nbconvert_exporter": "python",
   "pygments_lexer": "ipython3",
   "version": "3.8.8"
  }
 },
 "nbformat": 4,
 "nbformat_minor": 5
}
